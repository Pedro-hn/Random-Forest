{
 "cells": [
  {
   "cell_type": "markdown",
   "metadata": {},
   "source": [
    "The \"Credit Score\" problem solved with Random Forest Classifier"
   ]
  },
  {
   "cell_type": "code",
   "execution_count": 1,
   "metadata": {},
   "outputs": [],
   "source": [
    "import pandas as pd\n",
    "import numpy as np\n",
    "import seaborn as sns\n",
    "import matplotlib.pyplot as plt\n",
    "\n",
    "from sklearn.ensemble import RandomForestClassifier\n",
    "from sklearn.model_selection import train_test_split\n",
    "from sklearn import metrics\n",
    "from sklearn.metrics import confusion_matrix\n",
    "\n",
    "%matplotlib inline"
   ]
  },
  {
   "cell_type": "markdown",
   "metadata": {},
   "source": [
    "Importing the dataset"
   ]
  },
  {
   "cell_type": "code",
   "execution_count": null,
   "metadata": {},
   "outputs": [],
   "source": [
    "arquivo = '../../../Dados/cs-training.csv'\n",
    "df = pd.read_csv(arquivo, index_col=0)"
   ]
  },
  {
   "cell_type": "markdown",
   "metadata": {},
   "source": [
    "Checking the dataset"
   ]
  },
  {
   "cell_type": "code",
   "execution_count": null,
   "metadata": {},
   "outputs": [],
   "source": [
    "df.shape"
   ]
  },
  {
   "cell_type": "code",
   "execution_count": null,
   "metadata": {},
   "outputs": [],
   "source": [
    "df.head()"
   ]
  },
  {
   "cell_type": "code",
   "execution_count": null,
   "metadata": {},
   "outputs": [],
   "source": [
    "df.info()"
   ]
  },
  {
   "cell_type": "markdown",
   "metadata": {},
   "source": [
    "Univariate analysis"
   ]
  },
  {
   "cell_type": "code",
   "execution_count": null,
   "metadata": {},
   "outputs": [],
   "source": [
    "df['SeriousDlqin2yrs'].value_counts(normalize=True).plot.bar()"
   ]
  },
  {
   "cell_type": "code",
   "execution_count": null,
   "metadata": {},
   "outputs": [],
   "source": [
    "pd.DataFrame({'Contagens':df['SeriousDlqin2yrs'].value_counts(),\n",
    "              'pct':df['SeriousDlqin2yrs'].value_counts(normalize=True)},\n",
    "              index=df['SeriousDlqin2yrs'].value_counts().index,\n",
    "              ).style.format(precision=2, decimal=',', thousands='.',\n",
    "                             formatter={'pct':'{:.1%}'})"
   ]
  },
  {
   "cell_type": "code",
   "execution_count": null,
   "metadata": {},
   "outputs": [],
   "source": [
    "variavel = 'age'\n",
    "sns.displot(df,\n",
    "            x=variavel,\n",
    "            bins=110,\n",
    "            alpha=.2,\n",
    "            kde=True,\n",
    "            element='step')\n",
    "plt.show()"
   ]
  },
  {
   "cell_type": "code",
   "execution_count": null,
   "metadata": {},
   "outputs": [],
   "source": [
    "variavel='RevolvingUtilizationOfUnsecuredLines'\n",
    "sns.displot(df,\n",
    "            x=variavel,\n",
    "            bins=50,\n",
    "            aspect=3,\n",
    "            height=3)\n",
    "sns.displot(df[df['RevolvingUtilizationOfUnsecuredLines']<2],\n",
    "            x=variavel,\n",
    "            bins=50,\n",
    "            aspect=3,\n",
    "            height=3)\n",
    "plt.show()"
   ]
  },
  {
   "cell_type": "code",
   "execution_count": null,
   "metadata": {},
   "outputs": [],
   "source": [
    "df.head(5)"
   ]
  },
  {
   "cell_type": "markdown",
   "metadata": {},
   "source": [
    "Cleaning the Dataset"
   ]
  },
  {
   "cell_type": "code",
   "execution_count": null,
   "metadata": {},
   "outputs": [],
   "source": [
    "# count the duplicated rows by each column\n",
    "df.duplicated().sum()"
   ]
  },
  {
   "cell_type": "code",
   "execution_count": null,
   "metadata": {},
   "outputs": [],
   "source": [
    "df.drop_duplicates(inplace=True)"
   ]
  },
  {
   "cell_type": "code",
   "execution_count": null,
   "metadata": {},
   "outputs": [],
   "source": [
    "df.isna().sum()"
   ]
  },
  {
   "cell_type": "markdown",
   "metadata": {},
   "source": [
    "Handle with missing values inside a Random Forest algorithm"
   ]
  },
  {
   "cell_type": "code",
   "execution_count": null,
   "metadata": {},
   "outputs": [],
   "source": [
    "df['MonthlyIncome'] = df['MonthlyIncome'].fillna(-10000)\n",
    "df['NumberOfDependents'] = df['NumberOfDependents'].fillna(-1)"
   ]
  },
  {
   "cell_type": "code",
   "execution_count": null,
   "metadata": {},
   "outputs": [],
   "source": [
    "pd.DataFrame(df.isna().sum())"
   ]
  },
  {
   "cell_type": "markdown",
   "metadata": {},
   "source": [
    "Bivariate Analysis"
   ]
  },
  {
   "cell_type": "code",
   "execution_count": null,
   "metadata": {},
   "outputs": [],
   "source": [
    "var= 'RevolvingUtilizationOfUnsecuredLines'\n",
    "num_cat=4\n",
    "var_resp= 'SeriousDlqin2yrs'\n",
    "\n",
    "cat_srs, bins = pd.qcut(df[var], num_cat, retbins=True, duplicates='drop')\n",
    "\n",
    "ax= sns.pointplot(x=cat_srs, y=var_resp, data=df)\n",
    "\n",
    "labels =['0', '0 a 15%', '15% a 55%', '55% ou mais']\n",
    "ax.set_xticklabels(labels, rotation=30, fontsize='large')\n",
    "ax.set_title('Bivariada - bad rate e IC de 95% de confiança')\n",
    "ax.set_xlabel('Índice de utilização do rotativo')\n",
    "ax.set_ylabel('Bad Rate em 2 anos')\n",
    "\n"
   ]
  },
  {
   "cell_type": "markdown",
   "metadata": {},
   "source": [
    "Starting the Random Forest Classifier Algorithm"
   ]
  },
  {
   "cell_type": "code",
   "execution_count": null,
   "metadata": {},
   "outputs": [],
   "source": [
    "X = df.drop(columns=['SeriousDlqin2yrs'], axis=1).copy()\n",
    "y = df['SeriousDlqin2yrs'].copy()\n",
    "\n",
    "X_train, X_test, y_train, y_test = train_test_split(X, y)"
   ]
  },
  {
   "cell_type": "code",
   "execution_count": null,
   "metadata": {},
   "outputs": [],
   "source": [
    "X_train.head()"
   ]
  },
  {
   "cell_type": "code",
   "execution_count": null,
   "metadata": {},
   "outputs": [],
   "source": [
    "clf = RandomForestClassifier(n_estimators=5,\n",
    "                             ccp_alpha= .005,\n",
    "                             class_weight=\"balanced\")\n",
    "\n",
    "clf.fit(X_train, y_train)"
   ]
  },
  {
   "cell_type": "markdown",
   "metadata": {},
   "source": [
    "Variable Importance"
   ]
  },
  {
   "cell_type": "code",
   "execution_count": null,
   "metadata": {},
   "outputs": [],
   "source": [
    "importances = pd.Series(clf.feature_importances_, index=X.columns)\n",
    "importances.sort_values(ascending=False).plot.bar()"
   ]
  },
  {
   "cell_type": "markdown",
   "metadata": {},
   "source": [
    "Performance Metrics"
   ]
  },
  {
   "cell_type": "code",
   "execution_count": null,
   "metadata": {},
   "outputs": [],
   "source": [
    "# Acurácia\n",
    "acc = metrics.accuracy_score(y_test, y_pred)\n",
    "#AUC\n",
    "fpr, tpr, thresholds = metrics.roc_curve(y_test, y_prob)\n",
    "auc = metrics.auc(fpr, tpr)\n",
    "#Gini\n",
    "gini = 2*auc -1\n",
    "\n",
    "print('Acurácia: {0:.2f}% \\nAUC: {1:.2f}% \\nGINI: {2:.2f}%'\n",
    "      .format(acc*100, auc*100, gini*100))"
   ]
  },
  {
   "cell_type": "code",
   "execution_count": null,
   "metadata": {},
   "outputs": [],
   "source": [
    "plot_confusion_matrix(clf, X_test, y_test, display_labels=['Bom', 'Mau'])"
   ]
  }
 ],
 "metadata": {
  "kernelspec": {
   "display_name": "Python 3",
   "language": "python",
   "name": "python3"
  },
  "language_info": {
   "codemirror_mode": {
    "name": "ipython",
    "version": 3
   },
   "file_extension": ".py",
   "mimetype": "text/x-python",
   "name": "python",
   "nbconvert_exporter": "python",
   "pygments_lexer": "ipython3",
   "version": "3.9.4"
  }
 },
 "nbformat": 4,
 "nbformat_minor": 2
}
